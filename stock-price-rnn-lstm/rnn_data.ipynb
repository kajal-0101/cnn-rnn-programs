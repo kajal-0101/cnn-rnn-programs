{
 "cells": [
  {
   "cell_type": "markdown",
   "metadata": {},
   "source": [
    "**Step-1** Importing the required libraries"
   ]
  },
  {
   "cell_type": "code",
   "execution_count": 1,
   "metadata": {},
   "outputs": [],
   "source": [
    "import pandas as pd\n",
    "import datetime as dt\n",
    "from nsepy import get_history as gh"
   ]
  },
  {
   "cell_type": "markdown",
   "metadata": {},
   "source": [
    "**Step-2** Fetching the training data"
   ]
  },
  {
   "cell_type": "code",
   "execution_count": 2,
   "metadata": {},
   "outputs": [],
   "source": [
    "start = dt.datetime(2013,1,1)\n",
    "end=dt.datetime(2018,12,31)\n",
    "stk_data=gh(symbol='SBIN', start=start, end=end)"
   ]
  },
  {
   "cell_type": "code",
   "execution_count": 3,
   "metadata": {},
   "outputs": [
    {
     "data": {
      "text/html": [
       "<div>\n",
       "<style scoped>\n",
       "    .dataframe tbody tr th:only-of-type {\n",
       "        vertical-align: middle;\n",
       "    }\n",
       "\n",
       "    .dataframe tbody tr th {\n",
       "        vertical-align: top;\n",
       "    }\n",
       "\n",
       "    .dataframe thead th {\n",
       "        text-align: right;\n",
       "    }\n",
       "</style>\n",
       "<table border=\"1\" class=\"dataframe\">\n",
       "  <thead>\n",
       "    <tr style=\"text-align: right;\">\n",
       "      <th></th>\n",
       "      <th>Symbol</th>\n",
       "      <th>Series</th>\n",
       "      <th>Prev Close</th>\n",
       "      <th>Open</th>\n",
       "      <th>High</th>\n",
       "      <th>Low</th>\n",
       "      <th>Last</th>\n",
       "      <th>Close</th>\n",
       "      <th>VWAP</th>\n",
       "      <th>Volume</th>\n",
       "      <th>Turnover</th>\n",
       "      <th>Trades</th>\n",
       "      <th>Deliverable Volume</th>\n",
       "      <th>%Deliverble</th>\n",
       "    </tr>\n",
       "    <tr>\n",
       "      <th>Date</th>\n",
       "      <th></th>\n",
       "      <th></th>\n",
       "      <th></th>\n",
       "      <th></th>\n",
       "      <th></th>\n",
       "      <th></th>\n",
       "      <th></th>\n",
       "      <th></th>\n",
       "      <th></th>\n",
       "      <th></th>\n",
       "      <th></th>\n",
       "      <th></th>\n",
       "      <th></th>\n",
       "      <th></th>\n",
       "    </tr>\n",
       "  </thead>\n",
       "  <tbody>\n",
       "    <tr>\n",
       "      <th>2013-01-01</th>\n",
       "      <td>SBIN</td>\n",
       "      <td>EQ</td>\n",
       "      <td>2385.50</td>\n",
       "      <td>2404.9</td>\n",
       "      <td>2434.05</td>\n",
       "      <td>2397.55</td>\n",
       "      <td>2425.3</td>\n",
       "      <td>2426.45</td>\n",
       "      <td>2423.75</td>\n",
       "      <td>1720230</td>\n",
       "      <td>4.169403e+14</td>\n",
       "      <td>64215</td>\n",
       "      <td>662638</td>\n",
       "      <td>0.3852</td>\n",
       "    </tr>\n",
       "    <tr>\n",
       "      <th>2013-01-02</th>\n",
       "      <td>SBIN</td>\n",
       "      <td>EQ</td>\n",
       "      <td>2426.45</td>\n",
       "      <td>2450.0</td>\n",
       "      <td>2464.00</td>\n",
       "      <td>2438.15</td>\n",
       "      <td>2451.9</td>\n",
       "      <td>2450.55</td>\n",
       "      <td>2453.53</td>\n",
       "      <td>1466012</td>\n",
       "      <td>3.596900e+14</td>\n",
       "      <td>61823</td>\n",
       "      <td>508795</td>\n",
       "      <td>0.3471</td>\n",
       "    </tr>\n",
       "    <tr>\n",
       "      <th>2013-01-03</th>\n",
       "      <td>SBIN</td>\n",
       "      <td>EQ</td>\n",
       "      <td>2450.55</td>\n",
       "      <td>2460.0</td>\n",
       "      <td>2482.40</td>\n",
       "      <td>2436.20</td>\n",
       "      <td>2470.7</td>\n",
       "      <td>2471.60</td>\n",
       "      <td>2465.12</td>\n",
       "      <td>2010309</td>\n",
       "      <td>4.955653e+14</td>\n",
       "      <td>71411</td>\n",
       "      <td>820537</td>\n",
       "      <td>0.4082</td>\n",
       "    </tr>\n",
       "    <tr>\n",
       "      <th>2013-01-04</th>\n",
       "      <td>SBIN</td>\n",
       "      <td>EQ</td>\n",
       "      <td>2471.60</td>\n",
       "      <td>2460.0</td>\n",
       "      <td>2492.95</td>\n",
       "      <td>2450.65</td>\n",
       "      <td>2490.0</td>\n",
       "      <td>2486.70</td>\n",
       "      <td>2475.69</td>\n",
       "      <td>1370595</td>\n",
       "      <td>3.393164e+14</td>\n",
       "      <td>62637</td>\n",
       "      <td>231546</td>\n",
       "      <td>0.1689</td>\n",
       "    </tr>\n",
       "    <tr>\n",
       "      <th>2013-01-07</th>\n",
       "      <td>SBIN</td>\n",
       "      <td>EQ</td>\n",
       "      <td>2486.70</td>\n",
       "      <td>2490.0</td>\n",
       "      <td>2499.00</td>\n",
       "      <td>2461.75</td>\n",
       "      <td>2465.0</td>\n",
       "      <td>2467.60</td>\n",
       "      <td>2481.24</td>\n",
       "      <td>1026449</td>\n",
       "      <td>2.546866e+14</td>\n",
       "      <td>48683</td>\n",
       "      <td>269798</td>\n",
       "      <td>0.2628</td>\n",
       "    </tr>\n",
       "  </tbody>\n",
       "</table>\n",
       "</div>"
      ],
      "text/plain": [
       "           Symbol Series  Prev Close    Open     High      Low    Last  \\\n",
       "Date                                                                     \n",
       "2013-01-01   SBIN     EQ     2385.50  2404.9  2434.05  2397.55  2425.3   \n",
       "2013-01-02   SBIN     EQ     2426.45  2450.0  2464.00  2438.15  2451.9   \n",
       "2013-01-03   SBIN     EQ     2450.55  2460.0  2482.40  2436.20  2470.7   \n",
       "2013-01-04   SBIN     EQ     2471.60  2460.0  2492.95  2450.65  2490.0   \n",
       "2013-01-07   SBIN     EQ     2486.70  2490.0  2499.00  2461.75  2465.0   \n",
       "\n",
       "              Close     VWAP   Volume      Turnover  Trades  \\\n",
       "Date                                                          \n",
       "2013-01-01  2426.45  2423.75  1720230  4.169403e+14   64215   \n",
       "2013-01-02  2450.55  2453.53  1466012  3.596900e+14   61823   \n",
       "2013-01-03  2471.60  2465.12  2010309  4.955653e+14   71411   \n",
       "2013-01-04  2486.70  2475.69  1370595  3.393164e+14   62637   \n",
       "2013-01-07  2467.60  2481.24  1026449  2.546866e+14   48683   \n",
       "\n",
       "            Deliverable Volume  %Deliverble  \n",
       "Date                                         \n",
       "2013-01-01              662638       0.3852  \n",
       "2013-01-02              508795       0.3471  \n",
       "2013-01-03              820537       0.4082  \n",
       "2013-01-04              231546       0.1689  \n",
       "2013-01-07              269798       0.2628  "
      ]
     },
     "execution_count": 3,
     "metadata": {},
     "output_type": "execute_result"
    }
   ],
   "source": [
    "stk_data.head()"
   ]
  },
  {
   "cell_type": "code",
   "execution_count": 4,
   "metadata": {},
   "outputs": [
    {
     "data": {
      "text/plain": [
       "(1483, 14)"
      ]
     },
     "execution_count": 4,
     "metadata": {},
     "output_type": "execute_result"
    }
   ],
   "source": [
    "stk_data.shape"
   ]
  },
  {
   "cell_type": "markdown",
   "metadata": {},
   "source": [
    "**Step-3** Storing the fetched dataset"
   ]
  },
  {
   "cell_type": "code",
   "execution_count": 5,
   "metadata": {},
   "outputs": [],
   "source": [
    "stk_data.to_csv(r'stk_train_data.csv')"
   ]
  },
  {
   "cell_type": "markdown",
   "metadata": {},
   "source": [
    "**Step-4** Fetching the testing data"
   ]
  },
  {
   "cell_type": "code",
   "execution_count": 6,
   "metadata": {},
   "outputs": [],
   "source": [
    "testdataframe = gh(symbol='SBIN', start=dt.datetime(2019, 1, 1), end=dt.datetime(2019,9,18))"
   ]
  },
  {
   "cell_type": "code",
   "execution_count": 7,
   "metadata": {},
   "outputs": [
    {
     "data": {
      "text/html": [
       "<div>\n",
       "<style scoped>\n",
       "    .dataframe tbody tr th:only-of-type {\n",
       "        vertical-align: middle;\n",
       "    }\n",
       "\n",
       "    .dataframe tbody tr th {\n",
       "        vertical-align: top;\n",
       "    }\n",
       "\n",
       "    .dataframe thead th {\n",
       "        text-align: right;\n",
       "    }\n",
       "</style>\n",
       "<table border=\"1\" class=\"dataframe\">\n",
       "  <thead>\n",
       "    <tr style=\"text-align: right;\">\n",
       "      <th></th>\n",
       "      <th>Symbol</th>\n",
       "      <th>Series</th>\n",
       "      <th>Prev Close</th>\n",
       "      <th>Open</th>\n",
       "      <th>High</th>\n",
       "      <th>Low</th>\n",
       "      <th>Last</th>\n",
       "      <th>Close</th>\n",
       "      <th>VWAP</th>\n",
       "      <th>Volume</th>\n",
       "      <th>Turnover</th>\n",
       "      <th>Trades</th>\n",
       "      <th>Deliverable Volume</th>\n",
       "      <th>%Deliverble</th>\n",
       "    </tr>\n",
       "    <tr>\n",
       "      <th>Date</th>\n",
       "      <th></th>\n",
       "      <th></th>\n",
       "      <th></th>\n",
       "      <th></th>\n",
       "      <th></th>\n",
       "      <th></th>\n",
       "      <th></th>\n",
       "      <th></th>\n",
       "      <th></th>\n",
       "      <th></th>\n",
       "      <th></th>\n",
       "      <th></th>\n",
       "      <th></th>\n",
       "      <th></th>\n",
       "    </tr>\n",
       "  </thead>\n",
       "  <tbody>\n",
       "    <tr>\n",
       "      <th>2019-01-01</th>\n",
       "      <td>SBIN</td>\n",
       "      <td>EQ</td>\n",
       "      <td>295.90</td>\n",
       "      <td>297.50</td>\n",
       "      <td>300.70</td>\n",
       "      <td>293.85</td>\n",
       "      <td>300.70</td>\n",
       "      <td>299.60</td>\n",
       "      <td>296.77</td>\n",
       "      <td>11837127</td>\n",
       "      <td>3.512877e+14</td>\n",
       "      <td>69723</td>\n",
       "      <td>1668134</td>\n",
       "      <td>0.1409</td>\n",
       "    </tr>\n",
       "    <tr>\n",
       "      <th>2019-01-02</th>\n",
       "      <td>SBIN</td>\n",
       "      <td>EQ</td>\n",
       "      <td>299.60</td>\n",
       "      <td>299.10</td>\n",
       "      <td>302.50</td>\n",
       "      <td>293.10</td>\n",
       "      <td>293.80</td>\n",
       "      <td>293.90</td>\n",
       "      <td>298.20</td>\n",
       "      <td>25559853</td>\n",
       "      <td>7.622010e+14</td>\n",
       "      <td>162196</td>\n",
       "      <td>7019907</td>\n",
       "      <td>0.2746</td>\n",
       "    </tr>\n",
       "    <tr>\n",
       "      <th>2019-01-03</th>\n",
       "      <td>SBIN</td>\n",
       "      <td>EQ</td>\n",
       "      <td>293.90</td>\n",
       "      <td>295.00</td>\n",
       "      <td>295.55</td>\n",
       "      <td>290.10</td>\n",
       "      <td>291.05</td>\n",
       "      <td>291.10</td>\n",
       "      <td>292.87</td>\n",
       "      <td>17548347</td>\n",
       "      <td>5.139324e+14</td>\n",
       "      <td>110626</td>\n",
       "      <td>6361787</td>\n",
       "      <td>0.3625</td>\n",
       "    </tr>\n",
       "    <tr>\n",
       "      <th>2019-01-04</th>\n",
       "      <td>SBIN</td>\n",
       "      <td>EQ</td>\n",
       "      <td>291.10</td>\n",
       "      <td>292.10</td>\n",
       "      <td>299.00</td>\n",
       "      <td>291.50</td>\n",
       "      <td>297.30</td>\n",
       "      <td>297.65</td>\n",
       "      <td>296.18</td>\n",
       "      <td>19514041</td>\n",
       "      <td>5.779686e+14</td>\n",
       "      <td>142962</td>\n",
       "      <td>4963982</td>\n",
       "      <td>0.2544</td>\n",
       "    </tr>\n",
       "    <tr>\n",
       "      <th>2019-01-07</th>\n",
       "      <td>SBIN</td>\n",
       "      <td>EQ</td>\n",
       "      <td>297.65</td>\n",
       "      <td>301.05</td>\n",
       "      <td>301.50</td>\n",
       "      <td>295.20</td>\n",
       "      <td>296.55</td>\n",
       "      <td>296.30</td>\n",
       "      <td>298.25</td>\n",
       "      <td>14579399</td>\n",
       "      <td>4.348321e+14</td>\n",
       "      <td>113554</td>\n",
       "      <td>4817960</td>\n",
       "      <td>0.3305</td>\n",
       "    </tr>\n",
       "  </tbody>\n",
       "</table>\n",
       "</div>"
      ],
      "text/plain": [
       "           Symbol Series  Prev Close    Open    High     Low    Last   Close  \\\n",
       "Date                                                                           \n",
       "2019-01-01   SBIN     EQ      295.90  297.50  300.70  293.85  300.70  299.60   \n",
       "2019-01-02   SBIN     EQ      299.60  299.10  302.50  293.10  293.80  293.90   \n",
       "2019-01-03   SBIN     EQ      293.90  295.00  295.55  290.10  291.05  291.10   \n",
       "2019-01-04   SBIN     EQ      291.10  292.10  299.00  291.50  297.30  297.65   \n",
       "2019-01-07   SBIN     EQ      297.65  301.05  301.50  295.20  296.55  296.30   \n",
       "\n",
       "              VWAP    Volume      Turnover  Trades  Deliverable Volume  \\\n",
       "Date                                                                     \n",
       "2019-01-01  296.77  11837127  3.512877e+14   69723             1668134   \n",
       "2019-01-02  298.20  25559853  7.622010e+14  162196             7019907   \n",
       "2019-01-03  292.87  17548347  5.139324e+14  110626             6361787   \n",
       "2019-01-04  296.18  19514041  5.779686e+14  142962             4963982   \n",
       "2019-01-07  298.25  14579399  4.348321e+14  113554             4817960   \n",
       "\n",
       "            %Deliverble  \n",
       "Date                     \n",
       "2019-01-01       0.1409  \n",
       "2019-01-02       0.2746  \n",
       "2019-01-03       0.3625  \n",
       "2019-01-04       0.2544  \n",
       "2019-01-07       0.3305  "
      ]
     },
     "execution_count": 7,
     "metadata": {},
     "output_type": "execute_result"
    }
   ],
   "source": [
    "testdataframe.head()"
   ]
  },
  {
   "cell_type": "code",
   "execution_count": 8,
   "metadata": {},
   "outputs": [
    {
     "data": {
      "text/plain": [
       "(176, 14)"
      ]
     },
     "execution_count": 8,
     "metadata": {},
     "output_type": "execute_result"
    }
   ],
   "source": [
    "testdataframe.shape"
   ]
  },
  {
   "cell_type": "markdown",
   "metadata": {},
   "source": [
    "**Step-5** Storing the fetched data"
   ]
  },
  {
   "cell_type": "code",
   "execution_count": 9,
   "metadata": {},
   "outputs": [],
   "source": [
    "testdataframe.to_csv(r'stk_test_data.csv')"
   ]
  }
 ],
 "metadata": {
  "kernelspec": {
   "display_name": "Python 3",
   "language": "python",
   "name": "python3"
  },
  "language_info": {
   "codemirror_mode": {
    "name": "ipython",
    "version": 3
   },
   "file_extension": ".py",
   "mimetype": "text/x-python",
   "name": "python",
   "nbconvert_exporter": "python",
   "pygments_lexer": "ipython3",
   "version": "3.7.6"
  }
 },
 "nbformat": 4,
 "nbformat_minor": 4
}
