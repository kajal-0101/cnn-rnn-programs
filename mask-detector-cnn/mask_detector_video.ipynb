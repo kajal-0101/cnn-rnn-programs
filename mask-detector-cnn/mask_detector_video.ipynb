{
 "cells": [
  {
   "cell_type": "code",
   "execution_count": 1,
   "metadata": {
    "colab": {},
    "colab_type": "code",
    "id": "2zKPd7fxPYg8"
   },
   "outputs": [],
   "source": [
    "from tensorflow.keras.models import load_model\n",
    "import cv2\n",
    "import numpy as np"
   ]
  },
  {
   "cell_type": "code",
   "execution_count": 2,
   "metadata": {
    "colab": {},
    "colab_type": "code",
    "id": "DSJ-vITQP3ML"
   },
   "outputs": [],
   "source": [
    "model = load_model('model-018.h5') #model\n",
    "fc = cv2.CascadeClassifier(cv2.data.haarcascades + 'haarcascade_frontalface_default.xml') # cascade for classification"
   ]
  },
  {
   "cell_type": "code",
   "execution_count": 3,
   "metadata": {},
   "outputs": [],
   "source": [
    "labels_dict = {0:'Mask', 1:'No Mask'}\n",
    "color_dict = {1:(0, 0, 255), 0:(0, 255,0)} # green:mask, red:no mask"
   ]
  },
  {
   "cell_type": "code",
   "execution_count": 4,
   "metadata": {
    "colab": {
     "base_uri": "https://localhost:8080/",
     "height": 246
    },
    "colab_type": "code",
    "id": "lDOB175gP8Bx",
    "outputId": "cb99394a-8384-436a-9f48-ecce2552efda"
   },
   "outputs": [],
   "source": [
    "source = cv2.VideoCapture(0) # webcam\n",
    "\n",
    "\n",
    "\n",
    "while (True):\n",
    "    ret, img = source.read()\n",
    "    gray = cv2.cvtColor(img, cv2.COLOR_BGR2GRAY)\n",
    "    faces = fc.detectMultiScale(gray, 1.3,5)\n",
    "    \n",
    "    for x, y, w, h in faces:\n",
    "        face_img = gray[y:y+h, x:x+w]\n",
    "        resized = cv2.resize(face_img, (100, 100))\n",
    "        normalized = resized / 255.0\n",
    "        reshaped = np.reshape(normalized, (1, 100, 100, 1)) # cnn requires 4-dimensional array\n",
    "        result = model.predict(reshaped)\n",
    "        label = np.argmax(result, axis=1)[0]\n",
    "\n",
    "        acc=round(np.max(result,axis=1)[0]*100,2)\n",
    "        cv2.rectangle(img, (x,y), (x+w,y+h), color_dict[label], 2)\n",
    "        text = \"{} {}\" .format(labels_dict[label], str(acc))\n",
    "        cv2.putText(img,text, (x,y-10), cv2.FONT_HERSHEY_SIMPLEX, 0.5,color_dict[label] , 2)\n",
    "        \n",
    "\n",
    "    cv2.imshow(\"Mask Detector\", img)\n",
    "    key = cv2.waitKey(1)\n",
    "\n",
    "    if (key == ord('q')):\n",
    "        break\n",
    "\n",
    "cv2.destroyAllWindows()\n",
    "source.release()\n",
    "\n",
    "\n",
    "\n",
    "\n"
   ]
  },
  {
   "cell_type": "code",
   "execution_count": null,
   "metadata": {},
   "outputs": [],
   "source": []
  }
 ],
 "metadata": {
  "colab": {
   "name": "MaskDetector.ipynb",
   "provenance": []
  },
  "kernelspec": {
   "display_name": "Python 3",
   "language": "python",
   "name": "python3"
  },
  "language_info": {
   "codemirror_mode": {
    "name": "ipython",
    "version": 3
   },
   "file_extension": ".py",
   "mimetype": "text/x-python",
   "name": "python",
   "nbconvert_exporter": "python",
   "pygments_lexer": "ipython3",
   "version": "3.7.6"
  }
 },
 "nbformat": 4,
 "nbformat_minor": 1
}
