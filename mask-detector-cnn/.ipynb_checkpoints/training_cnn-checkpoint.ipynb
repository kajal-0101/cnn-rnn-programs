{
 "cells": [
  {
   "cell_type": "code",
   "execution_count": 1,
   "metadata": {
    "colab": {},
    "colab_type": "code",
    "id": "F0_b0bruvZjV"
   },
   "outputs": [],
   "source": [
    "import numpy as np\n",
    "import os\n",
    "# loading the numpy data saved from the pre-processing file\n",
    "data = np.load('data.npy')\n",
    "target = np.load('target.npy')"
   ]
  },
  {
   "cell_type": "code",
   "execution_count": 2,
   "metadata": {
    "colab": {},
    "colab_type": "code",
    "id": "v-y_2iP9yyf3"
   },
   "outputs": [],
   "source": [
    "from tensorflow.keras.models import Sequential\n",
    "from tensorflow.keras.layers import Dense, Activation, Flatten, Dropout\n",
    "from tensorflow.keras.layers import Conv2D, MaxPooling2D\n",
    "from tensorflow.keras.callbacks import ModelCheckpoint\n",
    "\n",
    "model = Sequential()\n",
    "\n",
    "# The first CNN layer followed by Relu and MaxPooling layers\n",
    "model.add(Conv2D(200, (3, 3), input_shape=data.shape[1:]))\n",
    "model.add(Activation('relu'))\n",
    "model.add(MaxPooling2D(pool_size=(2,2)))\n",
    "\n",
    "# The second layer followed by Relu and Maxpooling layer\n",
    "model.add(Conv2D(100, (3, 3)))\n",
    "model.add(Activation('relu'))\n",
    "model.add(MaxPooling2D(pool_size=(2,2)))\n",
    "\n",
    "# Flatten the layers to stack the output convolutions from second convolution layer\n",
    "model.add(Flatten())\n",
    "model.add(Dropout(0.5))\n",
    "# Dense layer of 50 neurons\n",
    "model.add(Dense(50, activation='relu'))\n",
    "# The final layer with two outputs for the two categories\n",
    "model.add(Dense(2, activation='softmax'))\n",
    "\n",
    "model.compile(loss='categorical_crossentropy', optimizer='adam', metrics=['accuracy'])"
   ]
  },
  {
   "cell_type": "code",
   "execution_count": 3,
   "metadata": {
    "colab": {},
    "colab_type": "code",
    "id": "pnC3sSGg6qgf"
   },
   "outputs": [],
   "source": [
    "from sklearn.model_selection import train_test_split\n",
    "X_train, X_test, y_train, y_test = train_test_split(data, target, test_size=0.1)\n",
    "# X = data ; y = target"
   ]
  },
  {
   "cell_type": "code",
   "execution_count": 4,
   "metadata": {},
   "outputs": [
    {
     "name": "stdout",
     "output_type": "stream",
     "text": [
      "New Directory created for storing trained model\n"
     ]
    }
   ],
   "source": [
    "folder = 'trained_model'\n",
    "path = os.path.join(os.getcwd(), folder)\n",
    "\n",
    "if(os.path.isdir(path) == False):\n",
    "    os.mkdir(path)\n",
    "    print(\"New Directory created for storing trained model\")\n",
    "else:\n",
    "    print(\"Directory already exists, data to be stored in the directory\")"
   ]
  },
  {
   "cell_type": "code",
   "execution_count": 5,
   "metadata": {
    "colab": {
     "base_uri": "https://localhost:8080/",
     "height": 978
    },
    "colab_type": "code",
    "id": "LHyHs9Le-mNd",
    "outputId": "72e26f14-c8ea-42d8-d0ad-ef0627924cee"
   },
   "outputs": [
    {
     "name": "stdout",
     "output_type": "stream",
     "text": [
      "Epoch 1/20\n",
      "31/31 [==============================] - 77s 2s/step - loss: 0.7894 - accuracy: 0.5202 - val_loss: 0.6899 - val_accuracy: 0.4315\n",
      "Epoch 2/20\n",
      "31/31 [==============================] - 76s 2s/step - loss: 0.6591 - accuracy: 0.5758 - val_loss: 0.7251 - val_accuracy: 0.4274\n",
      "Epoch 3/20\n",
      "31/31 [==============================] - 76s 2s/step - loss: 0.5834 - accuracy: 0.6657 - val_loss: 0.6044 - val_accuracy: 0.8306\n",
      "Epoch 4/20\n",
      "31/31 [==============================] - 77s 2s/step - loss: 0.4973 - accuracy: 0.8101 - val_loss: 0.3622 - val_accuracy: 0.8629\n",
      "Epoch 5/20\n",
      "31/31 [==============================] - 76s 2s/step - loss: 0.2946 - accuracy: 0.8737 - val_loss: 0.2468 - val_accuracy: 0.9073\n",
      "Epoch 6/20\n",
      "31/31 [==============================] - 76s 2s/step - loss: 0.2065 - accuracy: 0.9202 - val_loss: 0.1853 - val_accuracy: 0.9395\n",
      "Epoch 7/20\n",
      "31/31 [==============================] - 75s 2s/step - loss: 0.1536 - accuracy: 0.9505 - val_loss: 0.1912 - val_accuracy: 0.9194\n",
      "Epoch 8/20\n",
      "31/31 [==============================] - 76s 2s/step - loss: 0.1568 - accuracy: 0.9465 - val_loss: 0.1844 - val_accuracy: 0.9355\n",
      "Epoch 9/20\n",
      "31/31 [==============================] - 76s 2s/step - loss: 0.1039 - accuracy: 0.9626 - val_loss: 0.1348 - val_accuracy: 0.9677\n",
      "Epoch 10/20\n",
      "31/31 [==============================] - 75s 2s/step - loss: 0.0677 - accuracy: 0.9758 - val_loss: 0.1541 - val_accuracy: 0.9476\n",
      "Epoch 11/20\n",
      "31/31 [==============================] - 76s 2s/step - loss: 0.0683 - accuracy: 0.9737 - val_loss: 0.1216 - val_accuracy: 0.9637\n",
      "Epoch 12/20\n",
      "31/31 [==============================] - 75s 2s/step - loss: 0.0638 - accuracy: 0.9768 - val_loss: 0.1645 - val_accuracy: 0.9516\n",
      "Epoch 13/20\n",
      "31/31 [==============================] - 75s 2s/step - loss: 0.0420 - accuracy: 0.9848 - val_loss: 0.1888 - val_accuracy: 0.9355\n",
      "Epoch 14/20\n",
      "31/31 [==============================] - 75s 2s/step - loss: 0.0287 - accuracy: 0.9909 - val_loss: 0.1734 - val_accuracy: 0.9395\n",
      "Epoch 15/20\n",
      "31/31 [==============================] - 75s 2s/step - loss: 0.0323 - accuracy: 0.9909 - val_loss: 0.1222 - val_accuracy: 0.9718\n",
      "Epoch 16/20\n",
      "31/31 [==============================] - 76s 2s/step - loss: 0.0235 - accuracy: 0.9939 - val_loss: 0.1210 - val_accuracy: 0.9718\n",
      "Epoch 17/20\n",
      "31/31 [==============================] - 76s 2s/step - loss: 0.0280 - accuracy: 0.9889 - val_loss: 0.1042 - val_accuracy: 0.9758\n",
      "Epoch 18/20\n",
      "31/31 [==============================] - 76s 2s/step - loss: 0.0308 - accuracy: 0.9889 - val_loss: 0.0916 - val_accuracy: 0.9758\n",
      "Epoch 19/20\n",
      "31/31 [==============================] - 75s 2s/step - loss: 0.0156 - accuracy: 0.9960 - val_loss: 0.1522 - val_accuracy: 0.9597\n",
      "Epoch 20/20\n",
      "31/31 [==============================] - 77s 2s/step - loss: 0.0139 - accuracy: 0.9960 - val_loss: 0.1014 - val_accuracy: 0.9718\n"
     ]
    }
   ],
   "source": [
    "file = os.path.join(path, 'model-{epoch:03d}.h5')\n",
    "cp = ModelCheckpoint(file, monitor='val_loss', verbose=0, save_best_only=True, mode='auto')\n",
    "history = model.fit(X_train, y_train, epochs=20, callbacks=[cp], validation_split=0.2)"
   ]
  },
  {
   "cell_type": "code",
   "execution_count": 6,
   "metadata": {},
   "outputs": [
    {
     "name": "stdout",
     "output_type": "stream",
     "text": [
      "New Directory created for storing graphs\n"
     ]
    }
   ],
   "source": [
    "graph = 'graphs'\n",
    "graph_path = os.path.join(os.getcwd(), graph)\n",
    "\n",
    "if(os.path.isdir(graph_path) == False):\n",
    "    os.mkdir(graph_path)\n",
    "    print(\"New Directory created for storing graphs\")\n",
    "else:\n",
    "    print(\"Directory already exists, data to be stored in the directory\")"
   ]
  },
  {
   "cell_type": "code",
   "execution_count": 7,
   "metadata": {
    "colab": {
     "base_uri": "https://localhost:8080/",
     "height": 295
    },
    "colab_type": "code",
    "id": "s4jo0Atz_AgP",
    "outputId": "c12c5660-2f27-4852-9823-b6756c5c1ff8"
   },
   "outputs": [
    {
     "data": {
      "image/png": "[encoded data removed]",
      "text/plain": [
       "<Figure size 432x288 with 1 Axes>"
      ]
     },
     "metadata": {
      "needs_background": "light"
     },
     "output_type": "display_data"
    }
   ],
   "source": [
    "import matplotlib.pyplot as plt\n",
    "\n",
    "title = \"epoch-loss-graph\"\n",
    "file = os.path.join(graph_path, 'graph_' +title + '.png')\n",
    "\n",
    "plt.plot(history.history['loss'], 'r', label='training loss')\n",
    "plt.plot(history.history['val_loss'], 'b', label='validation loss')\n",
    "plt.xlabel(\"epochs\")\n",
    "plt.ylabel(\"loss\")\n",
    "plt.legend()\n",
    "plt.title(title)\n",
    "plt.savefig(file)\n",
    "plt.show()\n",
    "plt.close()\n",
    "\n"
   ]
  },
  {
   "cell_type": "code",
   "execution_count": 8,
   "metadata": {
    "colab": {
     "base_uri": "https://localhost:8080/",
     "height": 295
    },
    "colab_type": "code",
    "id": "DSzsY218Mcuo",
    "outputId": "8d7b5863-bc2d-428c-e1b5-51b59e3a80be"
   },
   "outputs": [
    {
     "data": {
      "image/png": "[encoded data removed]",
      "text/plain": [
       "<Figure size 432x288 with 1 Axes>"
      ]
     },
     "metadata": {
      "needs_background": "light"
     },
     "output_type": "display_data"
    }
   ],
   "source": [
    "title = \"epoch vs accuracy graph\"\n",
    "file = os.path.join(graph_path, 'graph_' +title + '.png')\n",
    "\n",
    "plt.plot(history.history['accuracy'], 'r', label='training accuracy')\n",
    "plt.plot(history.history['val_accuracy'], 'b', label='validation accuracy')\n",
    "plt.xlabel(\"epochs\")\n",
    "plt.ylabel(\"accuracy\")\n",
    "plt.title(title)\n",
    "plt.legend()\n",
    "plt.savefig(file)\n",
    "plt.show()\n",
    "plt.close()"
   ]
  },
  {
   "cell_type": "code",
   "execution_count": 9,
   "metadata": {
    "colab": {
     "base_uri": "https://localhost:8080/",
     "height": 87
    },
    "colab_type": "code",
    "id": "aVE8DFp_OPSQ",
    "outputId": "d4bbce31-0634-4461-d6e8-3b49f7be2e71"
   },
   "outputs": [
    {
     "name": "stdout",
     "output_type": "stream",
     "text": [
      "Model evaluation\n",
      "5/5 [==============================] - 2s 454ms/step - loss: 0.2047 - accuracy: 0.9348\n",
      "[0.20474930107593536, 0.9347826242446899]\n"
     ]
    }
   ],
   "source": [
    "print(\"Model evaluation\")\n",
    "print(model.evaluate(X_test, y_test))"
   ]
  }
 ],
 "metadata": {
  "colab": {
   "collapsed_sections": [],
   "name": "training_cnn.ipynb",
   "provenance": []
  },
  "kernelspec": {
   "display_name": "Python 3",
   "language": "python",
   "name": "python3"
  },
  "language_info": {
   "codemirror_mode": {
    "name": "ipython",
    "version": 3
   },
   "file_extension": ".py",
   "mimetype": "text/x-python",
   "name": "python",
   "nbconvert_exporter": "python",
   "pygments_lexer": "ipython3",
   "version": "3.7.6"
  }
 },
 "nbformat": 4,
 "nbformat_minor": 1
}
