{
 "cells": [
  {
   "cell_type": "code",
   "execution_count": 1,
   "metadata": {},
   "outputs": [],
   "source": [
    "#libraries\n",
    "import cv2\n",
    "from tensorflow.keras.models import load_model\n",
    "import numpy as np\n",
    "import os"
   ]
  },
  {
   "cell_type": "code",
   "execution_count": 2,
   "metadata": {},
   "outputs": [],
   "source": [
    "#model and classifier\n",
    "model = load_model('model-011.h5') #model\n",
    "fc = cv2.CascadeClassifier('haarcascade_frontalface_default.xml') # cascade for classification"
   ]
  },
  {
   "cell_type": "code",
   "execution_count": 3,
   "metadata": {},
   "outputs": [],
   "source": [
    "labels_dict = {0:'Mask', 1:'No Mask'}\n",
    "color_dict = {0:(0, 255,0), 1:(0, 0, 255)} # green:mask, red:no mask"
   ]
  },
  {
   "cell_type": "code",
   "execution_count": 4,
   "metadata": {},
   "outputs": [
    {
     "name": "stdout",
     "output_type": "stream",
     "text": [
      "New Directory created for storing trained model\n"
     ]
    }
   ],
   "source": [
    "folder_result = 'test_images_result'\n",
    "path = os.path.join(os.getcwd(), folder_result)\n",
    "\n",
    "if(os.path.isdir(path) == False):\n",
    "    os.mkdir(path)\n",
    "    print(\"New Directory created for storing trained model\")\n",
    "else:\n",
    "    print(\"Directory already exists, data to be stored in the directory\")"
   ]
  },
  {
   "cell_type": "code",
   "execution_count": 5,
   "metadata": {},
   "outputs": [],
   "source": [
    "# the no. of images with and without mask\n",
    "mask = 0\n",
    "no_mask = 0"
   ]
  },
  {
   "cell_type": "code",
   "execution_count": 6,
   "metadata": {},
   "outputs": [
    {
     "name": "stdout",
     "output_type": "stream",
     "text": [
      "Operation Over\n"
     ]
    }
   ],
   "source": [
    "#reading images from the folder\n",
    "\n",
    "folder = 'test_images'\n",
    "folder_path = os.path.join(os.getcwd(), folder)\n",
    "\n",
    "images = os.listdir(folder_path)\n",
    "for i in images:\n",
    "    img_path = os.path.join(folder_path, i)\n",
    "    img = cv2.imread(img_path)\n",
    "    try:\n",
    "        gray = cv2.cvtColor(img, cv2.COLOR_BGR2GRAY)\n",
    "        faces = fc.detectMultiScale(gray, 1.3,5)\n",
    "        a = np.random.randint(1, 10000)\n",
    "        file = os.path.join(path, 'result_' +str(i) + '.jpg')\n",
    "        for x, y, w, h in faces:\n",
    "            face_img = gray[y:y+h, x:x+w]\n",
    "            resized = cv2.resize(face_img, (100, 100))\n",
    "            normalized = resized / 255.0\n",
    "            reshaped = np.reshape(normalized, (1, 100, 100, 1)) # cnn requires 4-dimensional array\n",
    "            result = model.predict(reshaped)\n",
    "            label = np.argmax(result, axis=1)[0]\n",
    "            if(label == 0):\n",
    "                mask += 1\n",
    "            else:\n",
    "                no_mask += 1\n",
    "            cv2.rectangle(img, (x,y), (x+w,y+h), color_dict[label], 2)\n",
    "            cv2.putText(img, labels_dict[label], (x,y-10), cv2.FONT_HERSHEY_SIMPLEX, 0.5, color_dict[label], 2)\n",
    "        cv2.imwrite(file,img)\n",
    "    except Exception as e:\n",
    "        print(e)\n",
    "        \n",
    "print(\"Operation Over\")"
   ]
  },
  {
   "cell_type": "code",
   "execution_count": 7,
   "metadata": {},
   "outputs": [
    {
     "name": "stdout",
     "output_type": "stream",
     "text": [
      "Total no. of images:  21\n",
      "Total no. of images with mask:  10\n",
      "Total no. of images without mask:  9\n",
      "Unable to detect:  2\n"
     ]
    }
   ],
   "source": [
    "print(\"Total no. of images: \", len(images))\n",
    "print(\"Total no. of images with mask: \", mask)\n",
    "print(\"Total no. of images without mask: \", no_mask)\n",
    "print(\"Unable to detect: \", (len(images) - (mask + no_mask)))"
   ]
  }
 ],
 "metadata": {
  "kernelspec": {
   "display_name": "Python 3",
   "language": "python",
   "name": "python3"
  },
  "language_info": {
   "codemirror_mode": {
    "name": "ipython",
    "version": 3
   },
   "file_extension": ".py",
   "mimetype": "text/x-python",
   "name": "python",
   "nbconvert_exporter": "python",
   "pygments_lexer": "ipython3",
   "version": "3.7.6"
  }
 },
 "nbformat": 4,
 "nbformat_minor": 4
}
